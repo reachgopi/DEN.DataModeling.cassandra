{
 "cells": [
  {
   "cell_type": "markdown",
   "metadata": {},
   "source": [
    "# Part I. ETL Pipeline for Pre-Processing the Files"
   ]
  },
  {
   "cell_type": "markdown",
   "metadata": {},
   "source": [
    "## PLEASE RUN THE FOLLOWING CODE FOR PRE-PROCESSING THE FILES"
   ]
  },
  {
   "cell_type": "markdown",
   "metadata": {},
   "source": [
    "#### Import Python packages "
   ]
  },
  {
   "cell_type": "code",
   "execution_count": 1,
   "metadata": {},
   "outputs": [],
   "source": [
    "# Import Python packages \n",
    "import pandas as pd\n",
    "import cassandra\n",
    "import re\n",
    "import os\n",
    "import glob\n",
    "import numpy as np\n",
    "import json\n",
    "import csv"
   ]
  },
  {
   "cell_type": "markdown",
   "metadata": {},
   "source": [
    "#### Creating list of filepaths to process original event csv data files"
   ]
  },
  {
   "cell_type": "code",
   "execution_count": 2,
   "metadata": {},
   "outputs": [
    {
     "name": "stdout",
     "output_type": "stream",
     "text": [
      "/Users/gopinath/Documents/python_workspace/DataEngineering_NanoDegree/DataModeling/Project_2/DataModeling_Cassandra\n",
      "['/Users/gopinath/Documents/python_workspace/DataEngineering_NanoDegree/DataModeling/Project_2/DataModeling_Cassandra/event_data/2018-11-15-events.csv', '/Users/gopinath/Documents/python_workspace/DataEngineering_NanoDegree/DataModeling/Project_2/DataModeling_Cassandra/event_data/2018-11-22-events.csv', '/Users/gopinath/Documents/python_workspace/DataEngineering_NanoDegree/DataModeling/Project_2/DataModeling_Cassandra/event_data/2018-11-09-events.csv', '/Users/gopinath/Documents/python_workspace/DataEngineering_NanoDegree/DataModeling/Project_2/DataModeling_Cassandra/event_data/2018-11-18-events.csv', '/Users/gopinath/Documents/python_workspace/DataEngineering_NanoDegree/DataModeling/Project_2/DataModeling_Cassandra/event_data/2018-11-04-events.csv', '/Users/gopinath/Documents/python_workspace/DataEngineering_NanoDegree/DataModeling/Project_2/DataModeling_Cassandra/event_data/2018-11-01-events.csv', '/Users/gopinath/Documents/python_workspace/DataEngineering_NanoDegree/DataModeling/Project_2/DataModeling_Cassandra/event_data/2018-11-27-events.csv', '/Users/gopinath/Documents/python_workspace/DataEngineering_NanoDegree/DataModeling/Project_2/DataModeling_Cassandra/event_data/2018-11-10-events.csv', '/Users/gopinath/Documents/python_workspace/DataEngineering_NanoDegree/DataModeling/Project_2/DataModeling_Cassandra/event_data/2018-11-20-events.csv', '/Users/gopinath/Documents/python_workspace/DataEngineering_NanoDegree/DataModeling/Project_2/DataModeling_Cassandra/event_data/2018-11-17-events.csv', '/Users/gopinath/Documents/python_workspace/DataEngineering_NanoDegree/DataModeling/Project_2/DataModeling_Cassandra/event_data/2018-11-06-events.csv', '/Users/gopinath/Documents/python_workspace/DataEngineering_NanoDegree/DataModeling/Project_2/DataModeling_Cassandra/event_data/2018-11-03-events.csv', '/Users/gopinath/Documents/python_workspace/DataEngineering_NanoDegree/DataModeling/Project_2/DataModeling_Cassandra/event_data/2018-11-28-events.csv', '/Users/gopinath/Documents/python_workspace/DataEngineering_NanoDegree/DataModeling/Project_2/DataModeling_Cassandra/event_data/2018-11-12-events.csv', '/Users/gopinath/Documents/python_workspace/DataEngineering_NanoDegree/DataModeling/Project_2/DataModeling_Cassandra/event_data/2018-11-25-events.csv', '/Users/gopinath/Documents/python_workspace/DataEngineering_NanoDegree/DataModeling/Project_2/DataModeling_Cassandra/event_data/2018-11-26-events.csv', '/Users/gopinath/Documents/python_workspace/DataEngineering_NanoDegree/DataModeling/Project_2/DataModeling_Cassandra/event_data/2018-11-11-events.csv', '/Users/gopinath/Documents/python_workspace/DataEngineering_NanoDegree/DataModeling/Project_2/DataModeling_Cassandra/event_data/2018-11-14-events.csv', '/Users/gopinath/Documents/python_workspace/DataEngineering_NanoDegree/DataModeling/Project_2/DataModeling_Cassandra/event_data/2018-11-23-events.csv', '/Users/gopinath/Documents/python_workspace/DataEngineering_NanoDegree/DataModeling/Project_2/DataModeling_Cassandra/event_data/2018-11-08-events.csv', '/Users/gopinath/Documents/python_workspace/DataEngineering_NanoDegree/DataModeling/Project_2/DataModeling_Cassandra/event_data/2018-11-19-events.csv', '/Users/gopinath/Documents/python_workspace/DataEngineering_NanoDegree/DataModeling/Project_2/DataModeling_Cassandra/event_data/2018-11-05-events.csv', '/Users/gopinath/Documents/python_workspace/DataEngineering_NanoDegree/DataModeling/Project_2/DataModeling_Cassandra/event_data/2018-11-02-events.csv', '/Users/gopinath/Documents/python_workspace/DataEngineering_NanoDegree/DataModeling/Project_2/DataModeling_Cassandra/event_data/2018-11-29-events.csv', '/Users/gopinath/Documents/python_workspace/DataEngineering_NanoDegree/DataModeling/Project_2/DataModeling_Cassandra/event_data/2018-11-13-events.csv', '/Users/gopinath/Documents/python_workspace/DataEngineering_NanoDegree/DataModeling/Project_2/DataModeling_Cassandra/event_data/2018-11-24-events.csv', '/Users/gopinath/Documents/python_workspace/DataEngineering_NanoDegree/DataModeling/Project_2/DataModeling_Cassandra/event_data/2018-11-21-events.csv', '/Users/gopinath/Documents/python_workspace/DataEngineering_NanoDegree/DataModeling/Project_2/DataModeling_Cassandra/event_data/2018-11-16-events.csv', '/Users/gopinath/Documents/python_workspace/DataEngineering_NanoDegree/DataModeling/Project_2/DataModeling_Cassandra/event_data/2018-11-07-events.csv', '/Users/gopinath/Documents/python_workspace/DataEngineering_NanoDegree/DataModeling/Project_2/DataModeling_Cassandra/event_data/2018-11-30-events.csv']\n"
     ]
    }
   ],
   "source": [
    "# checking your current working directory\n",
    "print(os.getcwd())\n",
    "\n",
    "# Get your current folder and subfolder event data\n",
    "filepath = os.getcwd() + '/event_data'\n",
    "\n",
    "# Create a for loop to create a list of files and collect each filepath\n",
    "for root, dirs, files in os.walk(filepath):\n",
    "# join the file path and roots with the subdirectories using glob\n",
    "    file_path_list = glob.glob(os.path.join(root,'*'))\n",
    "    print(file_path_list)"
   ]
  },
  {
   "cell_type": "markdown",
   "metadata": {},
   "source": [
    "#### Processing the files to create the data file csv that will be used for Apache Casssandra tables"
   ]
  },
  {
   "cell_type": "code",
   "execution_count": 3,
   "metadata": {},
   "outputs": [],
   "source": [
    "# initiating an empty list of rows that will be generated from each file\n",
    "full_data_rows_list = [] \n",
    "    \n",
    "# for every filepath in the file path list \n",
    "for f in file_path_list:\n",
    "\n",
    "# reading csv file \n",
    "    with open(f, 'r', encoding = 'utf8', newline='') as csvfile: \n",
    "        # creating a csv reader object \n",
    "        csvreader = csv.reader(csvfile) \n",
    "        next(csvreader)\n",
    "        \n",
    " # extracting each data row one by one and append it        \n",
    "        for line in csvreader:\n",
    "            #print(line)\n",
    "            full_data_rows_list.append(line) \n",
    "            \n",
    "# creating a smaller event data csv file called event_datafile_full csv that will be used to insert data into the \\\n",
    "# Apache Cassandra tables\n",
    "csv.register_dialect('myDialect', quoting=csv.QUOTE_ALL, skipinitialspace=True)\n",
    "\n",
    "with open('event_datafile_new.csv', 'w', encoding = 'utf8', newline='') as f:\n",
    "    writer = csv.writer(f, dialect='myDialect')\n",
    "    writer.writerow(['artist','firstName','gender','itemInSession','lastName','length',\\\n",
    "                'level','location','sessionId','song','userId'])\n",
    "    for row in full_data_rows_list:\n",
    "        if (row[0] == ''):\n",
    "            continue\n",
    "        writer.writerow((row[0], row[2], row[3], row[4], row[5], row[6], row[7], row[8], row[12], row[13], row[16]))\n"
   ]
  },
  {
   "cell_type": "code",
   "execution_count": 4,
   "metadata": {},
   "outputs": [
    {
     "name": "stdout",
     "output_type": "stream",
     "text": [
      "6821\n"
     ]
    }
   ],
   "source": [
    "# check the number of rows in your csv file\n",
    "with open('event_datafile_new.csv', 'r', encoding = 'utf8') as f:\n",
    "    print(sum(1 for line in f))"
   ]
  },
  {
   "cell_type": "markdown",
   "metadata": {},
   "source": [
    "# Part II. Complete the Apache Cassandra coding portion of your project. \n",
    "\n",
    "## Now you are ready to work with the CSV file titled <font color=red>event_datafile_new.csv</font>, located within the Workspace directory.  The event_datafile_new.csv contains the following columns: \n",
    "- artist \n",
    "- firstName of user\n",
    "- gender of user\n",
    "- item number in session\n",
    "- last name of user\n",
    "- length of the song\n",
    "- level (paid or free song)\n",
    "- location of the user\n",
    "- sessionId\n",
    "- song title\n",
    "- userId\n",
    "\n",
    "The image below is a screenshot of what the denormalized data should appear like in the <font color=red>**event_datafile_new.csv**</font> after the code above is run:<br>\n",
    "\n",
    "<img src=\"images/image_event_datafile_new.jpg\">"
   ]
  },
  {
   "cell_type": "markdown",
   "metadata": {},
   "source": [
    "## Begin writing your Apache Cassandra code in the cells below"
   ]
  },
  {
   "cell_type": "markdown",
   "metadata": {},
   "source": [
    "#### Creating a Cluster"
   ]
  },
  {
   "cell_type": "code",
   "execution_count": 5,
   "metadata": {},
   "outputs": [],
   "source": [
    "from cassandra.cluster import Cluster\n",
    "\n",
    "try:\n",
    "    cluster = Cluster(['127.0.0.1'])\n",
    "\n",
    "    # To establish connection and begin executing queries, need a session\n",
    "    session = cluster.connect()\n",
    "except Exception as e:\n",
    "    print(\"Exception occured while connecting to database --->>>\",e)"
   ]
  },
  {
   "cell_type": "markdown",
   "metadata": {},
   "source": [
    "#### Create Keyspace"
   ]
  },
  {
   "cell_type": "code",
   "execution_count": 6,
   "metadata": {},
   "outputs": [],
   "source": [
    "try:\n",
    "    session.execute(\"\"\"\n",
    "        CREATE KEYSPACE IF NOT EXISTS sparkify \n",
    "        WITH REPLICATION =\n",
    "        { 'class' : 'SimpleStrategy', 'replication_factor': 1 }\"\"\")\n",
    "except Exception as e:\n",
    "    print(\"Exception occured while creating sparkify Keyspace --->>>>\", e)"
   ]
  },
  {
   "cell_type": "markdown",
   "metadata": {},
   "source": [
    "#### Set Keyspace"
   ]
  },
  {
   "cell_type": "code",
   "execution_count": 7,
   "metadata": {},
   "outputs": [],
   "source": [
    "try:\n",
    "    session.set_keyspace('sparkify')\n",
    "except Exception as e:\n",
    "    print(\"Exception occured while setting keyspace --->>>>\", e)"
   ]
  },
  {
   "cell_type": "markdown",
   "metadata": {},
   "source": [
    "### Now we need to create tables to run the following queries. Remember, with Apache Cassandra you model the database tables on the queries you want to run."
   ]
  },
  {
   "cell_type": "markdown",
   "metadata": {},
   "source": [
    "## Create queries to ask the following three questions of the data\n",
    "\n",
    "### 1. Give me the artist, song title and song's length in the music app history that was heard during  sessionId = 338, and itemInSession  = 4\n",
    "\n",
    "\n",
    "### 2. Give me only the following: name of artist, song (sorted by itemInSession) and user (first and last name) for userid = 10, sessionid = 182\n",
    "    \n",
    "\n",
    "### 3. Give me every user name (first and last) in my music app history who listened to the song 'All Hands Against His Own'\n",
    "\n",
    "\n"
   ]
  },
  {
   "cell_type": "markdown",
   "metadata": {},
   "source": [
    "# Query 1 Data Modeling Design Decisions\n",
    "\n",
    "   Query for Question 1 : \n",
    "       select artist_name, song_title, song_length from music_session_history where session_id = 338 and session_item_no = 4;\n",
    "   <ol>\n",
    "        <li> music_session_history table created with only selected fields to answer the question 1 </li>\n",
    "        <li> PRIMARY KEY having session_id as partition key and session_item_id as the clustering key. </li>\n",
    "   </ol>"
   ]
  },
  {
   "cell_type": "code",
   "execution_count": 8,
   "metadata": {},
   "outputs": [],
   "source": [
    "# Query 1\n",
    "query = \"\"\"\n",
    "    CREATE TABLE IF NOT EXISTS music_session_history\n",
    "    (session_id int, session_item_id int,\n",
    "     artist_name text, song_title text,\n",
    "     song_duration float,\n",
    "     PRIMARY KEY (session_id, session_item_id))\"\"\"\n",
    "try:\n",
    "    session.execute(query)\n",
    "except Exception as e:\n",
    "    print(\"Exception occured while creating music_session_history table --->>>\", e)"
   ]
  },
  {
   "cell_type": "code",
   "execution_count": 9,
   "metadata": {
    "scrolled": false
   },
   "outputs": [],
   "source": [
    "file = 'event_datafile_new.csv'\n",
    "query = \"\"\"INSERT INTO music_session_history \n",
    "            (session_id, session_item_id, artist_name, \n",
    "             song_title, song_duration )\n",
    "             VALUES (%s, %s, %s, %s, %s)\"\"\"\n",
    "\n",
    "try:\n",
    "    with open(file, encoding = 'utf8') as f:\n",
    "        csvreader = csv.reader(f)\n",
    "        next(csvreader)\n",
    "        for line in csvreader:\n",
    "            session.execute(query, (int(line[8]), int(line[3]), line[0], \n",
    "                                    line[9], float(line[5])))\n",
    "except Exception as e:\n",
    "    print(\"Exception occured while inserting data into music_session_history --->>>>\", e)"
   ]
  },
  {
   "cell_type": "markdown",
   "metadata": {},
   "source": [
    "#### Do a SELECT to verify that the data have been inserted into each table"
   ]
  },
  {
   "cell_type": "code",
   "execution_count": 10,
   "metadata": {
    "scrolled": true
   },
   "outputs": [
    {
     "name": "stdout",
     "output_type": "stream",
     "text": [
      "artist_name, song_title, song_duration\n",
      "The Roots / Jack Davey , Atonement , 155.95057678222656\n"
     ]
    }
   ],
   "source": [
    "query = \"\"\"SELECT artist_name, song_title, song_duration \n",
    "            from music_session_history where session_id = 338 and session_item_id= 2\"\"\"\n",
    "\n",
    "try:\n",
    "    rows = session.execute(query)\n",
    "    print (\"artist_name, song_title, song_duration\")\n",
    "    for row in rows:\n",
    "        print (row.artist_name, \",\", row.song_title, \",\", row.song_duration)\n",
    "except Exception as e:\n",
    "    print(\"Query 1: Exception occured while retrieving data from music_session_history --->>>\", e)\n"
   ]
  },
  {
   "cell_type": "markdown",
   "metadata": {},
   "source": [
    "# Query 2 Data Modeling Design Decisions\n",
    "\n",
    "   Query for Question 2 : \n",
    "           select artist_name, song_title, user_name from music_app_history where sessionid = 182, user_id =10;\n",
    "    <ol>\n",
    "        <li> music_app_history table created with all the fields from the data file to answer the question 2 </li>\n",
    "        <li> PRIMARY KEY having session_id and user_id as partition key and session_item_id as the clustering key so that the data is sorted by session item id </li>\n",
    "    </ol>"
   ]
  },
  {
   "cell_type": "markdown",
   "metadata": {},
   "source": [
    "### COPY AND REPEAT THE ABOVE THREE CELLS FOR EACH OF THE THREE QUESTIONS"
   ]
  },
  {
   "cell_type": "code",
   "execution_count": 11,
   "metadata": {},
   "outputs": [],
   "source": [
    "## Query 2\n",
    "query = \"\"\"\n",
    "    CREATE TABLE IF NOT EXISTS music_user_session_history\n",
    "    (user_id int, session_id int, session_item_id int,\n",
    "     artist_name text, song_title text, user_name text,\n",
    "     gender text, level text, song_duration float, location text,\n",
    "     PRIMARY KEY ((user_id, session_id), session_item_id))\"\"\"\n",
    "try:\n",
    "    session.execute(query)\n",
    "except Exception as e:\n",
    "    print(\"Exception occured while creating music_user_session_history table --->>>\", e)                 "
   ]
  },
  {
   "cell_type": "code",
   "execution_count": 12,
   "metadata": {},
   "outputs": [],
   "source": [
    "file = 'event_datafile_new.csv'\n",
    "query = \"\"\"INSERT INTO music_user_session_history \n",
    "            (user_id, session_id, session_item_id, \n",
    "             artist_name, song_title, user_name, gender, \n",
    "             level, song_duration, location )\n",
    "             VALUES (%s, %s, %s, %s, %s, %s, %s, %s, %s, %s)\"\"\"\n",
    "\n",
    "try:\n",
    "    with open(file, encoding = 'utf8') as f:\n",
    "        csvreader = csv.reader(f)\n",
    "        next(csvreader)\n",
    "        for line in csvreader:\n",
    "            session.execute(query, (int(line[10]), int(line[8]), int(line[3]), line[0], \n",
    "                                    line[9], line[1]+ \" \" + line[4], line[2], \n",
    "                                    line[6], float(line[5]), line[7]))\n",
    "except Exception as e:\n",
    "    print(\"Exception occured while inserting data into music_user_session_history --->>>>\", e)"
   ]
  },
  {
   "cell_type": "code",
   "execution_count": 13,
   "metadata": {},
   "outputs": [
    {
     "name": "stdout",
     "output_type": "stream",
     "text": [
      "artist_name, song_title, user_name\n",
      "Down To The Bone , Keep On Keepin' On , Sylvie Cruz\n",
      "Three Drives , Greece 2000 , Sylvie Cruz\n",
      "Sebastien Tellier , Kilometer , Sylvie Cruz\n",
      "Lonnie Gordon , Catch You Baby (Steve Pitron & Max Sanna Radio Edit) , Sylvie Cruz\n"
     ]
    }
   ],
   "source": [
    "query = \"\"\"SELECT artist_name, song_title, user_name  \n",
    "            from music_user_session_history where  user_id =10 and session_id = 182\"\"\"\n",
    "\n",
    "try:\n",
    "    rows = session.execute(query)\n",
    "    print (\"artist_name, song_title, user_name\")\n",
    "    for row in rows:\n",
    "        print (row.artist_name, \",\", row.song_title, \",\", row.user_name)\n",
    "except Exception as e:\n",
    "    print(\"Query 1: Exception occured while retrieving data from music_user_session_history --->>>\", e)\n"
   ]
  },
  {
   "cell_type": "markdown",
   "metadata": {},
   "source": [
    "# Query 3 Data Modeling Design Decisions\n",
    "\n",
    "   Query for Question 3 : \n",
    "           select user_name from music_song_listeners where song_name='All Hands Against His Own'\n",
    "    <ol>\n",
    "        <li> music_song_listeners table created with only selected fields from the data file to answer the question 3 </li>\n",
    "        <li> PRIMARY KEY having song_title as partition key and user_id as the clustering key </li>\n",
    "    </ol>"
   ]
  },
  {
   "cell_type": "code",
   "execution_count": 14,
   "metadata": {},
   "outputs": [],
   "source": [
    "# Query 3\n",
    "query = \"\"\"\n",
    "    CREATE TABLE IF NOT EXISTS music_song_listeners\n",
    "    (\n",
    "     song_title text, user_id int, \n",
    "     song_duration float, user_name text,\n",
    "     gender text, level text,  location text,\n",
    "     PRIMARY KEY (song_title,user_id))\"\"\"\n",
    "try:\n",
    "    session.execute(query)\n",
    "except Exception as e:\n",
    "    print(\"Exception occured while creating music_song_listeners table --->>>\", e)      "
   ]
  },
  {
   "cell_type": "code",
   "execution_count": 15,
   "metadata": {},
   "outputs": [],
   "source": [
    "file = 'event_datafile_new.csv'\n",
    "query = \"\"\"INSERT INTO music_song_listeners \n",
    "            (song_title, user_id, song_duration, \n",
    "             user_name, gender, level, location)\n",
    "             VALUES (%s, %s, %s, %s, %s, %s, %s)\"\"\"\n",
    "\n",
    "try:\n",
    "    with open(file, encoding = 'utf8') as f:\n",
    "        csvreader = csv.reader(f)\n",
    "        next(csvreader)\n",
    "        for line in csvreader:\n",
    "            session.execute(query, (line[9], int(line[10]), float(line[5]), line[1]+ \" \" + line[4], line[2], \n",
    "                                    line[6], line[7]))\n",
    "except Exception as e:\n",
    "    print(\"Exception occured while inserting data into music_song_listeners --->>>>\", e)"
   ]
  },
  {
   "cell_type": "code",
   "execution_count": 16,
   "metadata": {},
   "outputs": [
    {
     "name": "stdout",
     "output_type": "stream",
     "text": [
      "user_name\n",
      "Jacqueline Lynch\n",
      "Tegan Levine\n",
      "Sara Johnson\n"
     ]
    }
   ],
   "source": [
    "query = \"\"\"SELECT user_name  \n",
    "            from music_song_listeners where  song_title='All Hands Against His Own'\"\"\"\n",
    "\n",
    "try:\n",
    "    rows = session.execute(query)\n",
    "    print (\"user_name\")\n",
    "    for row in rows:\n",
    "        print (row.user_name)\n",
    "except Exception as e:\n",
    "    print(\"Query 1: Exception occured while retrieving data from music_song_listeners --->>>\", e)"
   ]
  },
  {
   "cell_type": "markdown",
   "metadata": {},
   "source": [
    "### Drop the tables before closing out the sessions"
   ]
  },
  {
   "cell_type": "code",
   "execution_count": 17,
   "metadata": {},
   "outputs": [],
   "source": [
    "query = \"DROP TABLE IF EXISTS music_session_history\"\n",
    "\n",
    "try:\n",
    "    session.execute(query)\n",
    "except Exception as e:\n",
    "    print(\"Exception occured while dropping table music_session_history --->>>>\", e)"
   ]
  },
  {
   "cell_type": "code",
   "execution_count": 18,
   "metadata": {},
   "outputs": [],
   "source": [
    "query = \"DROP TABLE IF EXISTS music_user_session_history\"\n",
    "\n",
    "try:\n",
    "    session.execute(query)\n",
    "except Exception as e:\n",
    "    print(\"Exception occured while dropping table music_user_session_history --->>>>\", e)"
   ]
  },
  {
   "cell_type": "code",
   "execution_count": 19,
   "metadata": {},
   "outputs": [],
   "source": [
    "query = \"DROP TABLE IF EXISTS music_song_listeners\"\n",
    "\n",
    "try:\n",
    "    session.execute(query)\n",
    "except Exception as e:\n",
    "    print(\"Exception occured while dropping table music_song_listeners --->>>>\", e)"
   ]
  },
  {
   "cell_type": "markdown",
   "metadata": {},
   "source": [
    "### Close the session and cluster connection¶"
   ]
  },
  {
   "cell_type": "code",
   "execution_count": 20,
   "metadata": {},
   "outputs": [],
   "source": [
    "session.shutdown()\n",
    "cluster.shutdown()"
   ]
  }
 ],
 "metadata": {
  "kernelspec": {
   "display_name": "Python 3",
   "language": "python",
   "name": "python3"
  },
  "language_info": {
   "codemirror_mode": {
    "name": "ipython",
    "version": 3
   },
   "file_extension": ".py",
   "mimetype": "text/x-python",
   "name": "python",
   "nbconvert_exporter": "python",
   "pygments_lexer": "ipython3",
   "version": "3.7.3"
  }
 },
 "nbformat": 4,
 "nbformat_minor": 2
}
